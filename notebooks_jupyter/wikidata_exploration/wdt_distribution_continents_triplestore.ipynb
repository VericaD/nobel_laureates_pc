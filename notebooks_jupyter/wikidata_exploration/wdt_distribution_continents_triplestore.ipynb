{
 "cells": [
  {
   "cell_type": "markdown",
   "id": "9150426b-5190-4539-8204-61253a0f1bd4",
   "metadata": {},
   "source": [
    "# Distribution des continents dans le temps \n",
    "\n",
    "Dans ce carnet est proposée une analyse de la distribution dans le temps des continents relatifs aux pays d'appartenance, en relation aux années de naissance de la population retenue.\n"
   ]
  },
  {
   "cell_type": "code",
   "execution_count": 53,
   "id": "231af92f-a7b1-479a-a734-0b8a9c0722e8",
   "metadata": {
    "tags": []
   },
   "outputs": [],
   "source": [
    "### Librairie à installer dans l'environnement conda (si on exécute en local)\n",
    "# qui sera choisi pour exécuter le carnet\n",
    "from SPARQLWrapper import SPARQLWrapper, JSON, TURTLE, XML, RDFXML\n",
    "import pandas as pd\n",
    "\n",
    "import matplotlib.pyplot as plt\n",
    "import numpy as np"
   ]
  },
  {
   "cell_type": "code",
   "execution_count": 54,
   "id": "e6ce0f0e-db36-47cd-8015-a5bf33f0f7fa",
   "metadata": {
    "tags": []
   },
   "outputs": [],
   "source": [
    "### Librairies déjà installées avec Python\n",
    "import pprint\n",
    "import csv\n",
    "import sys\n",
    "from importlib import reload\n",
    "import sqlite3 as sql\n",
    "\n",
    "import time\n",
    "import datetime\n",
    "from dateutil import parser\n",
    "\n",
    "\n",
    "from shutil import copyfile\n"
   ]
  },
  {
   "cell_type": "code",
   "execution_count": 55,
   "id": "9b90838d-2160-49e3-8adb-a67ff2cd112e",
   "metadata": {},
   "outputs": [],
   "source": [
    "### Importer un module de fonctions crées ad hoc\n",
    "##  ATTENTION : le fichier 'sparql_functions.py' doit se trouver \n",
    "#   dans un dossier qui se situe dans le chemin ('path') de recherche\n",
    "#   vu par le présent carnet Jupyter afin que\n",
    "#   l'importation fonctionne correctement\n",
    "\n",
    "# Add parent directory to the path\n",
    "sys.path.insert(0, '..')\n",
    "\n",
    "### If you want to add the parent-parent directory,\n",
    "sys.path.insert(0, '../..')\n",
    "\n",
    "\n",
    "import sparql_functions as spqf"
   ]
  },
  {
   "cell_type": "markdown",
   "id": "3fe8665b-f64c-42bb-8786-4aee3673867c",
   "metadata": {},
   "source": [
    "## SPARQL Query qui récupère les données\n",
    "\n",
    "On exécute la requête grâce à une fonction de la librairie locale qui réalise la mise en forme"
   ]
  },
  {
   "cell_type": "code",
   "execution_count": 56,
   "id": "cf08874b-9ba0-4f5c-8eee-aebd9f0d0d26",
   "metadata": {},
   "outputs": [],
   "source": [
    "## define SPARQL enpoint\n",
    "endpoint = \"https://ag1gha303ygjmx4r.allegrograph.cloud/repositories/nobel-laureats\""
   ]
  },
  {
   "cell_type": "code",
   "execution_count": 57,
   "id": "164e80e8-1834-473a-a605-a3c1a660eff3",
   "metadata": {},
   "outputs": [],
   "source": [
    "query = \"\"\"\n",
    "PREFIX wd: <http://www.wikidata.org/entity/>\n",
    "PREFIX wdt: <http://www.wikidata.org/prop/direct/>\n",
    "PREFIX rdfs: <http://www.w3.org/2000/01/rdf-schema#>\n",
    "\n",
    "\n",
    "SELECT  ?s (MAX(?label) as ?label) (xsd:integer(MAX(?birthDate)) as ?birthDate) \n",
    "            (MAX(?gen) as ?gen) ( GROUP_CONCAT(?continentLabel; separator=\", \") AS ?onctinents )\n",
    "WHERE {\n",
    "    GRAPH <https://github.com/VericaD/nobel_laureates_pc/blob/main/graph/wikidata-imported-data.md>\n",
    "        {?s wdt:P21 ?gen;\n",
    "            rdfs:label ?label;\n",
    "            wdt:P569 ?birthDate;\n",
    "            wdt:P27 ?country.\n",
    "        ?country wdt:P30 ?continent.\n",
    "        ?continent rdfs:label ?continentLabel.\n",
    "        ## Excluding Eurasia, Australia and Oceania insular\n",
    "        FILTER ( ?continent NOT IN (wd:Q538, wd:Q3960, wd:Q5401))\n",
    "          }\n",
    "}\n",
    "GROUP BY ?s\n",
    "\"\"\""
   ]
  },
  {
   "cell_type": "code",
   "execution_count": 58,
   "id": "70f2370f-e287-404f-ba7b-aaf79021047e",
   "metadata": {},
   "outputs": [],
   "source": [
    "### Executer la requête avec les fonctions de la librairie locale\n",
    "qr = spqf.get_json_sparql_result(endpoint,query)"
   ]
  },
  {
   "cell_type": "code",
   "execution_count": 59,
   "id": "21bfd9f5-4c63-4b8c-af10-f9ddec203db2",
   "metadata": {},
   "outputs": [
    {
     "name": "stdout",
     "output_type": "stream",
     "text": [
      "770\n"
     ]
    },
    {
     "data": {
      "text/plain": [
       "[['http://www.wikidata.org/entity/Q202140',\n",
       "  'Robert H. Grubbs',\n",
       "  '1942',\n",
       "  'http://www.wikidata.org/entity/Q6581097',\n",
       "  'North America'],\n",
       " ['http://www.wikidata.org/entity/Q233943',\n",
       "  'Albert Claude',\n",
       "  '1899',\n",
       "  'http://www.wikidata.org/entity/Q6581097',\n",
       "  'Europe, North America, North America, Europe'],\n",
       " ['http://www.wikidata.org/entity/Q60429',\n",
       "  'Chandrasekhara Venkata Raman',\n",
       "  '1888',\n",
       "  'http://www.wikidata.org/entity/Q6581097',\n",
       "  'Asia']]"
      ]
     },
     "execution_count": 59,
     "metadata": {},
     "output_type": "execute_result"
    }
   ],
   "source": [
    "r = [l for l in spqf.sparql_result_to_list(qr)]\n",
    "print(len(r))\n",
    "r[:3]"
   ]
  },
  {
   "cell_type": "code",
   "execution_count": 60,
   "id": "236bbba5-a4df-4a7b-b215-44c9bc3f355f",
   "metadata": {},
   "outputs": [
    {
     "data": {
      "text/html": [
       "<div>\n",
       "<style scoped>\n",
       "    .dataframe tbody tr th:only-of-type {\n",
       "        vertical-align: middle;\n",
       "    }\n",
       "\n",
       "    .dataframe tbody tr th {\n",
       "        vertical-align: top;\n",
       "    }\n",
       "\n",
       "    .dataframe thead th {\n",
       "        text-align: right;\n",
       "    }\n",
       "</style>\n",
       "<table border=\"1\" class=\"dataframe\">\n",
       "  <thead>\n",
       "    <tr style=\"text-align: right;\">\n",
       "      <th></th>\n",
       "      <th>personUri</th>\n",
       "      <th>personLabel</th>\n",
       "      <th>birthYear</th>\n",
       "      <th>genderUri</th>\n",
       "      <th>continents</th>\n",
       "    </tr>\n",
       "  </thead>\n",
       "  <tbody>\n",
       "    <tr>\n",
       "      <th>0</th>\n",
       "      <td>http://www.wikidata.org/entity/Q202140</td>\n",
       "      <td>Robert H. Grubbs</td>\n",
       "      <td>1942</td>\n",
       "      <td>http://www.wikidata.org/entity/Q6581097</td>\n",
       "      <td>North America</td>\n",
       "    </tr>\n",
       "    <tr>\n",
       "      <th>1</th>\n",
       "      <td>http://www.wikidata.org/entity/Q233943</td>\n",
       "      <td>Albert Claude</td>\n",
       "      <td>1899</td>\n",
       "      <td>http://www.wikidata.org/entity/Q6581097</td>\n",
       "      <td>Europe, North America, North America, Europe</td>\n",
       "    </tr>\n",
       "    <tr>\n",
       "      <th>2</th>\n",
       "      <td>http://www.wikidata.org/entity/Q60429</td>\n",
       "      <td>Chandrasekhara Venkata Raman</td>\n",
       "      <td>1888</td>\n",
       "      <td>http://www.wikidata.org/entity/Q6581097</td>\n",
       "      <td>Asia</td>\n",
       "    </tr>\n",
       "    <tr>\n",
       "      <th>3</th>\n",
       "      <td>http://www.wikidata.org/entity/Q169366</td>\n",
       "      <td>Carl David Anderson</td>\n",
       "      <td>1905</td>\n",
       "      <td>http://www.wikidata.org/entity/Q6581097</td>\n",
       "      <td>North America</td>\n",
       "    </tr>\n",
       "    <tr>\n",
       "      <th>4</th>\n",
       "      <td>http://www.wikidata.org/entity/Q1403</td>\n",
       "      <td>Luigi Pirandello</td>\n",
       "      <td>1867</td>\n",
       "      <td>http://www.wikidata.org/entity/Q6581097</td>\n",
       "      <td>Europe</td>\n",
       "    </tr>\n",
       "  </tbody>\n",
       "</table>\n",
       "</div>"
      ],
      "text/plain": [
       "                                personUri                   personLabel  \\\n",
       "0  http://www.wikidata.org/entity/Q202140              Robert H. Grubbs   \n",
       "1  http://www.wikidata.org/entity/Q233943                 Albert Claude   \n",
       "2   http://www.wikidata.org/entity/Q60429  Chandrasekhara Venkata Raman   \n",
       "3  http://www.wikidata.org/entity/Q169366           Carl David Anderson   \n",
       "4    http://www.wikidata.org/entity/Q1403              Luigi Pirandello   \n",
       "\n",
       "  birthYear                                genderUri  \\\n",
       "0      1942  http://www.wikidata.org/entity/Q6581097   \n",
       "1      1899  http://www.wikidata.org/entity/Q6581097   \n",
       "2      1888  http://www.wikidata.org/entity/Q6581097   \n",
       "3      1905  http://www.wikidata.org/entity/Q6581097   \n",
       "4      1867  http://www.wikidata.org/entity/Q6581097   \n",
       "\n",
       "                                     continents  \n",
       "0                                 North America  \n",
       "1  Europe, North America, North America, Europe  \n",
       "2                                          Asia  \n",
       "3                                 North America  \n",
       "4                                        Europe  "
      ]
     },
     "execution_count": 60,
     "metadata": {},
     "output_type": "execute_result"
    }
   ],
   "source": [
    "### Créer un DataFrame à partir du résultat\n",
    "df_p = pd.DataFrame(r)\n",
    "df_p.columns = ['personUri', 'personLabel', 'birthYear', 'genderUri', 'continents']\n",
    "df_p.head()"
   ]
  },
  {
   "cell_type": "code",
   "execution_count": 61,
   "id": "eb664e6b-7fd0-4757-8bff-db79a0d52f97",
   "metadata": {
    "tags": []
   },
   "outputs": [
    {
     "name": "stdout",
     "output_type": "stream",
     "text": [
      "<class 'pandas.core.frame.DataFrame'>\n",
      "RangeIndex: 770 entries, 0 to 769\n",
      "Data columns (total 5 columns):\n",
      " #   Column       Non-Null Count  Dtype \n",
      "---  ------       --------------  ----- \n",
      " 0   personUri    770 non-null    object\n",
      " 1   personLabel  770 non-null    object\n",
      " 2   birthYear    770 non-null    object\n",
      " 3   genderUri    770 non-null    object\n",
      " 4   continents   770 non-null    object\n",
      "dtypes: object(5)\n",
      "memory usage: 30.2+ KB\n"
     ]
    }
   ],
   "source": [
    "df_p.info()"
   ]
  },
  {
   "cell_type": "markdown",
   "id": "9b44e2cd",
   "metadata": {},
   "source": [
    "## Coder les continents et afficher leur distribution"
   ]
  },
  {
   "cell_type": "code",
   "execution_count": 62,
   "id": "460475b8",
   "metadata": {},
   "outputs": [],
   "source": [
    "def codeContinents(continents):\n",
    "    listContinents = sorted(continents.split(','))\n",
    "    if 'Europe' in listContinents:\n",
    "        output = 'Europe'\n",
    "    elif 'Asia' in listContinents:\n",
    "        output = 'Asia'\n",
    "    elif 'Africa' in listContinents:\n",
    "        output = 'Africa'\n",
    "    elif 'Oceania' in listContinents:\n",
    "        output = 'Oceania'   \n",
    "    elif 'North America' in listContinents:\n",
    "        output = 'NorthAmerica'   \n",
    "    elif 'South America' in listContinents:\n",
    "        output = 'SouthAmerica' \n",
    "    else:\n",
    "        output = 'Missing'                 \n",
    "    return output    "
   ]
  },
  {
   "cell_type": "code",
   "execution_count": 63,
   "id": "cc275ffe",
   "metadata": {},
   "outputs": [
    {
     "data": {
      "text/plain": [
       "'Oceania'"
      ]
     },
     "execution_count": 63,
     "metadata": {},
     "output_type": "execute_result"
    }
   ],
   "source": [
    "codeContinents('Oceania, North America, Africa')"
   ]
  },
  {
   "cell_type": "code",
   "execution_count": 64,
   "id": "8b60289c",
   "metadata": {},
   "outputs": [
    {
     "data": {
      "text/html": [
       "<div>\n",
       "<style scoped>\n",
       "    .dataframe tbody tr th:only-of-type {\n",
       "        vertical-align: middle;\n",
       "    }\n",
       "\n",
       "    .dataframe tbody tr th {\n",
       "        vertical-align: top;\n",
       "    }\n",
       "\n",
       "    .dataframe thead th {\n",
       "        text-align: right;\n",
       "    }\n",
       "</style>\n",
       "<table border=\"1\" class=\"dataframe\">\n",
       "  <thead>\n",
       "    <tr style=\"text-align: right;\">\n",
       "      <th></th>\n",
       "      <th>personUri</th>\n",
       "      <th>personLabel</th>\n",
       "      <th>birthYear</th>\n",
       "      <th>genderUri</th>\n",
       "      <th>continents</th>\n",
       "      <th>contCode</th>\n",
       "    </tr>\n",
       "  </thead>\n",
       "  <tbody>\n",
       "    <tr>\n",
       "      <th>0</th>\n",
       "      <td>http://www.wikidata.org/entity/Q202140</td>\n",
       "      <td>Robert H. Grubbs</td>\n",
       "      <td>1942</td>\n",
       "      <td>http://www.wikidata.org/entity/Q6581097</td>\n",
       "      <td>North America</td>\n",
       "      <td>NorthAmerica</td>\n",
       "    </tr>\n",
       "    <tr>\n",
       "      <th>1</th>\n",
       "      <td>http://www.wikidata.org/entity/Q233943</td>\n",
       "      <td>Albert Claude</td>\n",
       "      <td>1899</td>\n",
       "      <td>http://www.wikidata.org/entity/Q6581097</td>\n",
       "      <td>Europe, North America, North America, Europe</td>\n",
       "      <td>Europe</td>\n",
       "    </tr>\n",
       "    <tr>\n",
       "      <th>2</th>\n",
       "      <td>http://www.wikidata.org/entity/Q60429</td>\n",
       "      <td>Chandrasekhara Venkata Raman</td>\n",
       "      <td>1888</td>\n",
       "      <td>http://www.wikidata.org/entity/Q6581097</td>\n",
       "      <td>Asia</td>\n",
       "      <td>Asia</td>\n",
       "    </tr>\n",
       "  </tbody>\n",
       "</table>\n",
       "</div>"
      ],
      "text/plain": [
       "                                personUri                   personLabel  \\\n",
       "0  http://www.wikidata.org/entity/Q202140              Robert H. Grubbs   \n",
       "1  http://www.wikidata.org/entity/Q233943                 Albert Claude   \n",
       "2   http://www.wikidata.org/entity/Q60429  Chandrasekhara Venkata Raman   \n",
       "\n",
       "  birthYear                                genderUri  \\\n",
       "0      1942  http://www.wikidata.org/entity/Q6581097   \n",
       "1      1899  http://www.wikidata.org/entity/Q6581097   \n",
       "2      1888  http://www.wikidata.org/entity/Q6581097   \n",
       "\n",
       "                                     continents      contCode  \n",
       "0                                 North America  NorthAmerica  \n",
       "1  Europe, North America, North America, Europe        Europe  \n",
       "2                                          Asia          Asia  "
      ]
     },
     "execution_count": 64,
     "metadata": {},
     "output_type": "execute_result"
    }
   ],
   "source": [
    "### On ajoute une nouvelle colonne et y on met pour chaque ligne le résultat de la fonction\n",
    "df_p['contCode'] = df_p.apply(lambda x: codeContinents(x['continents']), axis=1)\n",
    "df_p.head(3)"
   ]
  },
  {
   "cell_type": "code",
   "execution_count": 65,
   "id": "604fb1ee",
   "metadata": {},
   "outputs": [
    {
     "data": {
      "text/html": [
       "<div>\n",
       "<style scoped>\n",
       "    .dataframe tbody tr th:only-of-type {\n",
       "        vertical-align: middle;\n",
       "    }\n",
       "\n",
       "    .dataframe tbody tr th {\n",
       "        vertical-align: top;\n",
       "    }\n",
       "\n",
       "    .dataframe thead th {\n",
       "        text-align: right;\n",
       "    }\n",
       "</style>\n",
       "<table border=\"1\" class=\"dataframe\">\n",
       "  <thead>\n",
       "    <tr style=\"text-align: right;\">\n",
       "      <th></th>\n",
       "      <th>personUri</th>\n",
       "      <th>personLabel</th>\n",
       "      <th>birthYear</th>\n",
       "      <th>genderUri</th>\n",
       "      <th>continents</th>\n",
       "      <th>contCode</th>\n",
       "    </tr>\n",
       "  </thead>\n",
       "  <tbody>\n",
       "    <tr>\n",
       "      <th>115</th>\n",
       "      <td>http://www.wikidata.org/entity/Q106949</td>\n",
       "      <td>Saul Perlmutter</td>\n",
       "      <td>1959</td>\n",
       "      <td>http://www.wikidata.org/entity/Q6581097</td>\n",
       "      <td>North America</td>\n",
       "      <td>NorthAmerica</td>\n",
       "    </tr>\n",
       "    <tr>\n",
       "      <th>116</th>\n",
       "      <td>http://www.wikidata.org/entity/Q156480</td>\n",
       "      <td>Hugo Theorell</td>\n",
       "      <td>1903</td>\n",
       "      <td>http://www.wikidata.org/entity/Q6581097</td>\n",
       "      <td>Europe</td>\n",
       "      <td>Europe</td>\n",
       "    </tr>\n",
       "    <tr>\n",
       "      <th>117</th>\n",
       "      <td>http://www.wikidata.org/entity/Q107609</td>\n",
       "      <td>Christiaan Eijkman</td>\n",
       "      <td>1858</td>\n",
       "      <td>http://www.wikidata.org/entity/Q6581097</td>\n",
       "      <td>Europe</td>\n",
       "      <td>Europe</td>\n",
       "    </tr>\n",
       "    <tr>\n",
       "      <th>118</th>\n",
       "      <td>http://www.wikidata.org/entity/Q5677307</td>\n",
       "      <td>Harvey J. Alter</td>\n",
       "      <td>1935</td>\n",
       "      <td>http://www.wikidata.org/entity/Q6581097</td>\n",
       "      <td>North America</td>\n",
       "      <td>NorthAmerica</td>\n",
       "    </tr>\n",
       "    <tr>\n",
       "      <th>119</th>\n",
       "      <td>http://www.wikidata.org/entity/Q133232</td>\n",
       "      <td>Gabriel Lippmann</td>\n",
       "      <td>1845</td>\n",
       "      <td>http://www.wikidata.org/entity/Q6581097</td>\n",
       "      <td>Europe</td>\n",
       "      <td>Europe</td>\n",
       "    </tr>\n",
       "  </tbody>\n",
       "</table>\n",
       "</div>"
      ],
      "text/plain": [
       "                                   personUri         personLabel birthYear  \\\n",
       "115   http://www.wikidata.org/entity/Q106949     Saul Perlmutter      1959   \n",
       "116   http://www.wikidata.org/entity/Q156480       Hugo Theorell      1903   \n",
       "117   http://www.wikidata.org/entity/Q107609  Christiaan Eijkman      1858   \n",
       "118  http://www.wikidata.org/entity/Q5677307     Harvey J. Alter      1935   \n",
       "119   http://www.wikidata.org/entity/Q133232    Gabriel Lippmann      1845   \n",
       "\n",
       "                                   genderUri     continents      contCode  \n",
       "115  http://www.wikidata.org/entity/Q6581097  North America  NorthAmerica  \n",
       "116  http://www.wikidata.org/entity/Q6581097         Europe        Europe  \n",
       "117  http://www.wikidata.org/entity/Q6581097         Europe        Europe  \n",
       "118  http://www.wikidata.org/entity/Q6581097  North America  NorthAmerica  \n",
       "119  http://www.wikidata.org/entity/Q6581097         Europe        Europe  "
      ]
     },
     "execution_count": 65,
     "metadata": {},
     "output_type": "execute_result"
    }
   ],
   "source": [
    "df_p.iloc[ 115:120 :  ]"
   ]
  },
  {
   "cell_type": "code",
   "execution_count": 66,
   "id": "17a17f60",
   "metadata": {},
   "outputs": [
    {
     "name": "stdout",
     "output_type": "stream",
     "text": [
      "              effectif\n",
      "contCode              \n",
      "SouthAmerica         4\n",
      "Africa               6\n",
      "Oceania             10\n",
      "Asia                46\n",
      "NorthAmerica       333\n",
      "Europe             371\n"
     ]
    }
   ],
   "source": [
    "\n",
    "\n",
    "### Regrouper et compter\n",
    "df_contCode = df_p.groupby('contCode').size()\n",
    "df_contCode = pd.DataFrame(df_contCode.sort_values(ascending = True))\n",
    "#df_contCode.reset_index(inplace=True)\n",
    "df_contCode.columns=['effectif']\n",
    "print(df_contCode)\n",
    "\n"
   ]
  },
  {
   "cell_type": "code",
   "execution_count": 67,
   "id": "2656d4b0",
   "metadata": {},
   "outputs": [
    {
     "data": {
      "text/html": [
       "<div>\n",
       "<style scoped>\n",
       "    .dataframe tbody tr th:only-of-type {\n",
       "        vertical-align: middle;\n",
       "    }\n",
       "\n",
       "    .dataframe tbody tr th {\n",
       "        vertical-align: top;\n",
       "    }\n",
       "\n",
       "    .dataframe thead th {\n",
       "        text-align: right;\n",
       "    }\n",
       "</style>\n",
       "<table border=\"1\" class=\"dataframe\">\n",
       "  <thead>\n",
       "    <tr style=\"text-align: right;\">\n",
       "      <th></th>\n",
       "      <th>effectif</th>\n",
       "      <th>frequence</th>\n",
       "    </tr>\n",
       "    <tr>\n",
       "      <th>contCode</th>\n",
       "      <th></th>\n",
       "      <th></th>\n",
       "    </tr>\n",
       "  </thead>\n",
       "  <tbody>\n",
       "    <tr>\n",
       "      <th>SouthAmerica</th>\n",
       "      <td>4</td>\n",
       "      <td>0.52</td>\n",
       "    </tr>\n",
       "    <tr>\n",
       "      <th>Africa</th>\n",
       "      <td>6</td>\n",
       "      <td>0.78</td>\n",
       "    </tr>\n",
       "    <tr>\n",
       "      <th>Oceania</th>\n",
       "      <td>10</td>\n",
       "      <td>1.30</td>\n",
       "    </tr>\n",
       "    <tr>\n",
       "      <th>Asia</th>\n",
       "      <td>46</td>\n",
       "      <td>5.97</td>\n",
       "    </tr>\n",
       "    <tr>\n",
       "      <th>NorthAmerica</th>\n",
       "      <td>333</td>\n",
       "      <td>43.25</td>\n",
       "    </tr>\n",
       "    <tr>\n",
       "      <th>Europe</th>\n",
       "      <td>371</td>\n",
       "      <td>48.18</td>\n",
       "    </tr>\n",
       "  </tbody>\n",
       "</table>\n",
       "</div>"
      ],
      "text/plain": [
       "              effectif  frequence\n",
       "contCode                         \n",
       "SouthAmerica         4       0.52\n",
       "Africa               6       0.78\n",
       "Oceania             10       1.30\n",
       "Asia                46       5.97\n",
       "NorthAmerica       333      43.25\n",
       "Europe             371      48.18"
      ]
     },
     "execution_count": 67,
     "metadata": {},
     "output_type": "execute_result"
    }
   ],
   "source": [
    "\n",
    "\n",
    "df_contCode['frequence'] = (100 * df_contCode['effectif'] \\\n",
    "                                   / df_contCode['effectif'].sum()).round(2)\n",
    "df_contCode\n",
    "\n"
   ]
  },
  {
   "cell_type": "code",
   "execution_count": 68,
   "id": "e39f1006",
   "metadata": {},
   "outputs": [
    {
     "data": {
      "text/html": [
       "<div>\n",
       "<style scoped>\n",
       "    .dataframe tbody tr th:only-of-type {\n",
       "        vertical-align: middle;\n",
       "    }\n",
       "\n",
       "    .dataframe tbody tr th {\n",
       "        vertical-align: top;\n",
       "    }\n",
       "\n",
       "    .dataframe thead th {\n",
       "        text-align: right;\n",
       "    }\n",
       "</style>\n",
       "<table border=\"1\" class=\"dataframe\">\n",
       "  <thead>\n",
       "    <tr style=\"text-align: right;\">\n",
       "      <th>contCode</th>\n",
       "      <th>Europe</th>\n",
       "      <th>NorthAmerica</th>\n",
       "      <th>Asia</th>\n",
       "      <th>Oceania</th>\n",
       "      <th>Africa</th>\n",
       "      <th>SouthAmerica</th>\n",
       "    </tr>\n",
       "  </thead>\n",
       "  <tbody>\n",
       "    <tr>\n",
       "      <th>frequence</th>\n",
       "      <td>48.18</td>\n",
       "      <td>43.25</td>\n",
       "      <td>5.97</td>\n",
       "      <td>1.3</td>\n",
       "      <td>0.78</td>\n",
       "      <td>0.52</td>\n",
       "    </tr>\n",
       "  </tbody>\n",
       "</table>\n",
       "</div>"
      ],
      "text/plain": [
       "contCode   Europe  NorthAmerica  Asia  Oceania  Africa  SouthAmerica\n",
       "frequence   48.18         43.25  5.97      1.3    0.78          0.52"
      ]
     },
     "execution_count": 68,
     "metadata": {},
     "output_type": "execute_result"
    }
   ],
   "source": [
    "\n",
    "ljt = pd.DataFrame(df_contCode['frequence'].sort_values(ascending=False)).T\n",
    "ljt\n",
    "\n"
   ]
  },
  {
   "cell_type": "code",
   "execution_count": 69,
   "id": "05913d25",
   "metadata": {},
   "outputs": [],
   "source": [
    "### Définir les couleurs en fonction des continents\n",
    "# Noter que cette liste des couleurs et continents\n",
    "# doit être adaptée à l'ordre de tri des données \n",
    "# dans le graphique\n",
    "col_palette = [\n",
    "    \"#DCDCDC\",  # Gainsboro : Europe\n",
    "    \"#cd5c5c\",  # Indian Red : NorthAmerica\n",
    "    \"#F4A261\",  # Light Coral: Asia\n",
    "    \"#F6E58D\",  # Light Yellow :SouthAmerica\n",
    "    \"#B2E0B2\",  # Light Green : Oceania\n",
    "    \"#A3C1DA\",  # Light Blue : Africa    \n",
    "\n",
    "]\n"
   ]
  },
  {
   "cell_type": "code",
   "execution_count": 70,
   "id": "30068cc8",
   "metadata": {},
   "outputs": [
    {
     "data": {
      "image/png": "[encoded data removed]",
      "text/plain": [
       "<Figure size 1500x300 with 1 Axes>"
      ]
     },
     "metadata": {},
     "output_type": "display_data"
    }
   ],
   "source": [
    "\n",
    "\n",
    "### Pandas plot reference\n",
    "# https://pandas.pydata.org/pandas-docs/stable/reference/api/pandas.DataFrame.plot.html\n",
    "## Barplots\n",
    "# https://www.shanelynn.ie/bar-plots-in-python-using-pandas-dataframes/\n",
    "\n",
    "fig = ljt.plot(kind='barh', stacked=True, figsize=(15,3), color=col_palette, width=0.2, xlim=[0,100])"
   ]
  },
  {
   "cell_type": "markdown",
   "id": "c60b84a9-99a7-46b0-8ae9-11bf26128fe7",
   "metadata": {},
   "source": [
    "### Codage par période de vingt-cinq ans"
   ]
  },
  {
   "cell_type": "code",
   "execution_count": 71,
   "id": "7c29f5c0-bf9f-444d-be57-2d39bf882e23",
   "metadata": {
    "tags": []
   },
   "outputs": [
    {
     "name": "stdout",
     "output_type": "stream",
     "text": [
      "[1801, 1826, 1851, 1876, 1901] [1901, 1926, 1951, 1976, 2001] 8\n"
     ]
    }
   ],
   "source": [
    "### Créer une liste d'années pour séparer en périodes de 25 ans\n",
    "# noter que la dernière année sera exclue, \n",
    "# elle donc doit être supérieure à la valeur maximale \n",
    "l_25 = list(range(1801, 2025, 25))\n",
    "print(l_25[:5],l_25[-5:], len(l_25)-1)"
   ]
  },
  {
   "cell_type": "code",
   "execution_count": 72,
   "id": "e37bca9e",
   "metadata": {},
   "outputs": [],
   "source": [
    "### Transformer les années de naissance en entiers\n",
    "df_p.birthYear = df_p.birthYear.apply(lambda x : int(x))"
   ]
  },
  {
   "cell_type": "code",
   "execution_count": 73,
   "id": "06ab381e-f317-4767-9790-a9fcbfcb1853",
   "metadata": {},
   "outputs": [
    {
     "data": {
      "text/html": [
       "<div>\n",
       "<style scoped>\n",
       "    .dataframe tbody tr th:only-of-type {\n",
       "        vertical-align: middle;\n",
       "    }\n",
       "\n",
       "    .dataframe tbody tr th {\n",
       "        vertical-align: top;\n",
       "    }\n",
       "\n",
       "    .dataframe thead th {\n",
       "        text-align: right;\n",
       "    }\n",
       "</style>\n",
       "<table border=\"1\" class=\"dataframe\">\n",
       "  <thead>\n",
       "    <tr style=\"text-align: right;\">\n",
       "      <th></th>\n",
       "      <th>personUri</th>\n",
       "      <th>personLabel</th>\n",
       "      <th>birthYear</th>\n",
       "      <th>genderUri</th>\n",
       "      <th>continents</th>\n",
       "      <th>contCode</th>\n",
       "      <th>per_25</th>\n",
       "    </tr>\n",
       "  </thead>\n",
       "  <tbody>\n",
       "    <tr>\n",
       "      <th>0</th>\n",
       "      <td>http://www.wikidata.org/entity/Q202140</td>\n",
       "      <td>Robert H. Grubbs</td>\n",
       "      <td>1942</td>\n",
       "      <td>http://www.wikidata.org/entity/Q6581097</td>\n",
       "      <td>North America</td>\n",
       "      <td>NorthAmerica</td>\n",
       "      <td>1926-1950</td>\n",
       "    </tr>\n",
       "    <tr>\n",
       "      <th>1</th>\n",
       "      <td>http://www.wikidata.org/entity/Q233943</td>\n",
       "      <td>Albert Claude</td>\n",
       "      <td>1899</td>\n",
       "      <td>http://www.wikidata.org/entity/Q6581097</td>\n",
       "      <td>Europe, North America, North America, Europe</td>\n",
       "      <td>Europe</td>\n",
       "      <td>1876-1900</td>\n",
       "    </tr>\n",
       "    <tr>\n",
       "      <th>2</th>\n",
       "      <td>http://www.wikidata.org/entity/Q60429</td>\n",
       "      <td>Chandrasekhara Venkata Raman</td>\n",
       "      <td>1888</td>\n",
       "      <td>http://www.wikidata.org/entity/Q6581097</td>\n",
       "      <td>Asia</td>\n",
       "      <td>Asia</td>\n",
       "      <td>1876-1900</td>\n",
       "    </tr>\n",
       "  </tbody>\n",
       "</table>\n",
       "</div>"
      ],
      "text/plain": [
       "                                personUri                   personLabel  \\\n",
       "0  http://www.wikidata.org/entity/Q202140              Robert H. Grubbs   \n",
       "1  http://www.wikidata.org/entity/Q233943                 Albert Claude   \n",
       "2   http://www.wikidata.org/entity/Q60429  Chandrasekhara Venkata Raman   \n",
       "\n",
       "   birthYear                                genderUri  \\\n",
       "0       1942  http://www.wikidata.org/entity/Q6581097   \n",
       "1       1899  http://www.wikidata.org/entity/Q6581097   \n",
       "2       1888  http://www.wikidata.org/entity/Q6581097   \n",
       "\n",
       "                                     continents      contCode     per_25  \n",
       "0                                 North America  NorthAmerica  1926-1950  \n",
       "1  Europe, North America, North America, Europe        Europe  1876-1900  \n",
       "2                                          Asia          Asia  1876-1900  "
      ]
     },
     "execution_count": 73,
     "metadata": {},
     "output_type": "execute_result"
    }
   ],
   "source": [
    "### fonction pd.cut : https://pandas.pydata.org/pandas-docs/stable/reference/api/pandas.cut.html\n",
    "# On ajoute une nouvelle colonne qui contient la période sur la base de la liste précédente\n",
    "# et de la valeur de l'année\n",
    "\n",
    "df_p['per_25'] = pd.cut(df_p['birthYear'], l_25, right=False)\n",
    "\n",
    "### Transformer le code ajouté pour qu'il soit plus lisible\n",
    "# noter qu'on a arrondi les valeurs\n",
    "df_p['per_25'] = df_p['per_25'].apply(lambda x : str(int(x.left))+'-'+ str(int(x.right)-1))\n",
    "\n",
    "# Inspection\n",
    "df_p.head(3)"
   ]
  },
  {
   "cell_type": "code",
   "execution_count": 74,
   "id": "4e943cfe-40d8-49c0-afa1-a55f964f657a",
   "metadata": {},
   "outputs": [
    {
     "name": "stdout",
     "output_type": "stream",
     "text": [
      "per_25\n",
      "1801-1825      1\n",
      "1826-1850     24\n",
      "1851-1875     88\n",
      "1876-1900    129\n",
      "1901-1925    215\n",
      "1926-1950    245\n",
      "1951-1975     66\n",
      "1976-2000      2\n",
      "dtype: int64\n"
     ]
    },
    {
     "name": "stderr",
     "output_type": "stream",
     "text": [
      "C:\\Users\\dimit\\AppData\\Local\\Temp\\ipykernel_10908\\173774721.py:2: FutureWarning: The default of observed=False is deprecated and will be changed to True in a future version of pandas. Pass observed=False to retain current behavior or observed=True to adopt the future default and silence this warning.\n",
      "  naissances_per = df_p.groupby(by='per_25').size()\n"
     ]
    }
   ],
   "source": [
    "### distribution des naissances par périodes de 25 ans\n",
    "naissances_per = df_p.groupby(by='per_25').size()\n",
    "print(naissances_per)"
   ]
  },
  {
   "cell_type": "code",
   "execution_count": 75,
   "id": "9a1dd793-210a-42c3-b68b-d0e1756277d1",
   "metadata": {},
   "outputs": [
    {
     "name": "stderr",
     "output_type": "stream",
     "text": [
      "C:\\Users\\dimit\\AppData\\Local\\Temp\\ipykernel_10908\\1845055184.py:2: FutureWarning: The default of observed=False is deprecated and will be changed to True in a future version of pandas. Pass observed=False to retain current behavior or observed=True to adopt the future default and silence this warning.\n",
      "  ax = df_p.groupby(by='per_25').size().plot(kind='bar',rot=60, fontsize=8, figsize=(16,8))\n"
     ]
    },
    {
     "data": {
      "image/png": "[encoded data removed]",
      "text/plain": [
       "<Figure size 1600x800 with 1 Axes>"
      ]
     },
     "metadata": {},
     "output_type": "display_data"
    }
   ],
   "source": [
    "### Diagramme à barres représentant la distribution par 'génération'\n",
    "ax = df_p.groupby(by='per_25').size().plot(kind='bar',rot=60, fontsize=8, figsize=(16,8))\n",
    "plt.ylabel('Effectif')\n",
    "plt.xlabel('Périodes')\n",
    "plt.title('Naissances par périodes de ving-cinq ans')\n",
    "plt.show()"
   ]
  },
  {
   "cell_type": "markdown",
   "id": "7d3da8ee-300d-4fb8-be6e-384e1e4186ef",
   "metadata": {},
   "source": [
    "## Ajouter la représentation des continents"
   ]
  },
  {
   "cell_type": "code",
   "execution_count": 76,
   "id": "5fe3105a",
   "metadata": {},
   "outputs": [
    {
     "name": "stdout",
     "output_type": "stream",
     "text": [
      "['Africa', 'Asia', 'NorthAmerica', 'Oceania', 'SouthAmerica']\n"
     ]
    }
   ],
   "source": [
    "lcont = list(sorted(set(df_p.contCode.to_list())))\n",
    "lcont.remove('Europe')\n",
    "print(lcont)"
   ]
  },
  {
   "cell_type": "code",
   "execution_count": 77,
   "id": "a4371393",
   "metadata": {},
   "outputs": [
    {
     "name": "stderr",
     "output_type": "stream",
     "text": [
      "C:\\Users\\dimit\\AppData\\Local\\Temp\\ipykernel_10908\\2162464101.py:2: FutureWarning: The default of observed=False is deprecated and will be changed to True in a future version of pandas. Pass observed=False to retain current behavior or observed=True to adopt the future default and silence this warning.\n",
      "  merged = pd.DataFrame(df_p[df_p.contCode == 'Europe'].groupby('per_25').size())\n"
     ]
    },
    {
     "data": {
      "text/html": [
       "<div>\n",
       "<style scoped>\n",
       "    .dataframe tbody tr th:only-of-type {\n",
       "        vertical-align: middle;\n",
       "    }\n",
       "\n",
       "    .dataframe tbody tr th {\n",
       "        vertical-align: top;\n",
       "    }\n",
       "\n",
       "    .dataframe thead th {\n",
       "        text-align: right;\n",
       "    }\n",
       "</style>\n",
       "<table border=\"1\" class=\"dataframe\">\n",
       "  <thead>\n",
       "    <tr style=\"text-align: right;\">\n",
       "      <th></th>\n",
       "      <th>Europe</th>\n",
       "    </tr>\n",
       "    <tr>\n",
       "      <th>per_25</th>\n",
       "      <th></th>\n",
       "    </tr>\n",
       "  </thead>\n",
       "  <tbody>\n",
       "    <tr>\n",
       "      <th>1876-1900</th>\n",
       "      <td>77</td>\n",
       "    </tr>\n",
       "    <tr>\n",
       "      <th>1901-1925</th>\n",
       "      <td>86</td>\n",
       "    </tr>\n",
       "    <tr>\n",
       "      <th>1926-1950</th>\n",
       "      <td>85</td>\n",
       "    </tr>\n",
       "    <tr>\n",
       "      <th>1951-1975</th>\n",
       "      <td>21</td>\n",
       "    </tr>\n",
       "    <tr>\n",
       "      <th>1976-2000</th>\n",
       "      <td>1</td>\n",
       "    </tr>\n",
       "  </tbody>\n",
       "</table>\n",
       "</div>"
      ],
      "text/plain": [
       "           Europe\n",
       "per_25           \n",
       "1876-1900      77\n",
       "1901-1925      86\n",
       "1926-1950      85\n",
       "1951-1975      21\n",
       "1976-2000       1"
      ]
     },
     "execution_count": 77,
     "metadata": {},
     "output_type": "execute_result"
    }
   ],
   "source": [
    "### Regrouper et compter avec un fitre sur le continent 'Europe'\n",
    "merged = pd.DataFrame(df_p[df_p.contCode == 'Europe'].groupby('per_25').size())\n",
    "merged.columns = ['Europe']\n",
    "merged.tail()\n",
    "\n"
   ]
  },
  {
   "cell_type": "code",
   "execution_count": 78,
   "id": "b03dab9c",
   "metadata": {},
   "outputs": [
    {
     "name": "stderr",
     "output_type": "stream",
     "text": [
      "C:\\Users\\dimit\\AppData\\Local\\Temp\\ipykernel_10908\\3178152777.py:3: FutureWarning: The default of observed=False is deprecated and will be changed to True in a future version of pandas. Pass observed=False to retain current behavior or observed=True to adopt the future default and silence this warning.\n",
      "  new_df = pd.DataFrame(df_p[df_p.contCode == cont].groupby('per_25').size())\n",
      "C:\\Users\\dimit\\AppData\\Local\\Temp\\ipykernel_10908\\3178152777.py:3: FutureWarning: The default of observed=False is deprecated and will be changed to True in a future version of pandas. Pass observed=False to retain current behavior or observed=True to adopt the future default and silence this warning.\n",
      "  new_df = pd.DataFrame(df_p[df_p.contCode == cont].groupby('per_25').size())\n",
      "C:\\Users\\dimit\\AppData\\Local\\Temp\\ipykernel_10908\\3178152777.py:3: FutureWarning: The default of observed=False is deprecated and will be changed to True in a future version of pandas. Pass observed=False to retain current behavior or observed=True to adopt the future default and silence this warning.\n",
      "  new_df = pd.DataFrame(df_p[df_p.contCode == cont].groupby('per_25').size())\n",
      "C:\\Users\\dimit\\AppData\\Local\\Temp\\ipykernel_10908\\3178152777.py:3: FutureWarning: The default of observed=False is deprecated and will be changed to True in a future version of pandas. Pass observed=False to retain current behavior or observed=True to adopt the future default and silence this warning.\n",
      "  new_df = pd.DataFrame(df_p[df_p.contCode == cont].groupby('per_25').size())\n",
      "C:\\Users\\dimit\\AppData\\Local\\Temp\\ipykernel_10908\\3178152777.py:3: FutureWarning: The default of observed=False is deprecated and will be changed to True in a future version of pandas. Pass observed=False to retain current behavior or observed=True to adopt the future default and silence this warning.\n",
      "  new_df = pd.DataFrame(df_p[df_p.contCode == cont].groupby('per_25').size())\n"
     ]
    },
    {
     "data": {
      "text/html": [
       "<div>\n",
       "<style scoped>\n",
       "    .dataframe tbody tr th:only-of-type {\n",
       "        vertical-align: middle;\n",
       "    }\n",
       "\n",
       "    .dataframe tbody tr th {\n",
       "        vertical-align: top;\n",
       "    }\n",
       "\n",
       "    .dataframe thead th {\n",
       "        text-align: right;\n",
       "    }\n",
       "</style>\n",
       "<table border=\"1\" class=\"dataframe\">\n",
       "  <thead>\n",
       "    <tr style=\"text-align: right;\">\n",
       "      <th></th>\n",
       "      <th>Europe</th>\n",
       "      <th>Africa</th>\n",
       "      <th>Asia</th>\n",
       "      <th>NorthAmerica</th>\n",
       "      <th>Oceania</th>\n",
       "      <th>SouthAmerica</th>\n",
       "    </tr>\n",
       "    <tr>\n",
       "      <th>per_25</th>\n",
       "      <th></th>\n",
       "      <th></th>\n",
       "      <th></th>\n",
       "      <th></th>\n",
       "      <th></th>\n",
       "      <th></th>\n",
       "    </tr>\n",
       "  </thead>\n",
       "  <tbody>\n",
       "    <tr>\n",
       "      <th>1801-1825</th>\n",
       "      <td>1</td>\n",
       "      <td>0</td>\n",
       "      <td>0</td>\n",
       "      <td>0</td>\n",
       "      <td>0</td>\n",
       "      <td>0</td>\n",
       "    </tr>\n",
       "    <tr>\n",
       "      <th>1826-1850</th>\n",
       "      <td>23</td>\n",
       "      <td>0</td>\n",
       "      <td>1</td>\n",
       "      <td>0</td>\n",
       "      <td>0</td>\n",
       "      <td>0</td>\n",
       "    </tr>\n",
       "    <tr>\n",
       "      <th>1851-1875</th>\n",
       "      <td>77</td>\n",
       "      <td>0</td>\n",
       "      <td>1</td>\n",
       "      <td>9</td>\n",
       "      <td>1</td>\n",
       "      <td>0</td>\n",
       "    </tr>\n",
       "    <tr>\n",
       "      <th>1876-1900</th>\n",
       "      <td>77</td>\n",
       "      <td>1</td>\n",
       "      <td>4</td>\n",
       "      <td>43</td>\n",
       "      <td>2</td>\n",
       "      <td>2</td>\n",
       "    </tr>\n",
       "    <tr>\n",
       "      <th>1901-1925</th>\n",
       "      <td>86</td>\n",
       "      <td>2</td>\n",
       "      <td>8</td>\n",
       "      <td>115</td>\n",
       "      <td>3</td>\n",
       "      <td>1</td>\n",
       "    </tr>\n",
       "    <tr>\n",
       "      <th>1926-1950</th>\n",
       "      <td>85</td>\n",
       "      <td>3</td>\n",
       "      <td>23</td>\n",
       "      <td>130</td>\n",
       "      <td>3</td>\n",
       "      <td>1</td>\n",
       "    </tr>\n",
       "    <tr>\n",
       "      <th>1951-1975</th>\n",
       "      <td>21</td>\n",
       "      <td>0</td>\n",
       "      <td>9</td>\n",
       "      <td>35</td>\n",
       "      <td>1</td>\n",
       "      <td>0</td>\n",
       "    </tr>\n",
       "    <tr>\n",
       "      <th>1976-2000</th>\n",
       "      <td>1</td>\n",
       "      <td>0</td>\n",
       "      <td>0</td>\n",
       "      <td>1</td>\n",
       "      <td>0</td>\n",
       "      <td>0</td>\n",
       "    </tr>\n",
       "  </tbody>\n",
       "</table>\n",
       "</div>"
      ],
      "text/plain": [
       "           Europe  Africa  Asia  NorthAmerica  Oceania  SouthAmerica\n",
       "per_25                                                              \n",
       "1801-1825       1       0     0             0        0             0\n",
       "1826-1850      23       0     1             0        0             0\n",
       "1851-1875      77       0     1             9        1             0\n",
       "1876-1900      77       1     4            43        2             2\n",
       "1901-1925      86       2     8           115        3             1\n",
       "1926-1950      85       3    23           130        3             1\n",
       "1951-1975      21       0     9            35        1             0\n",
       "1976-2000       1       0     0             1        0             0"
      ]
     },
     "execution_count": 78,
     "metadata": {},
     "output_type": "execute_result"
    }
   ],
   "source": [
    "### Ajouter les distributions des autres continents\n",
    "for cont in lcont:\n",
    "    new_df = pd.DataFrame(df_p[df_p.contCode == cont].groupby('per_25').size())\n",
    "    new_df.columns = [cont]\n",
    "    merged = pd.merge(merged, new_df, left_index=True, right_index=True)\n",
    "\n",
    "merged    \n",
    "    "
   ]
  },
  {
   "cell_type": "code",
   "execution_count": 79,
   "id": "60190e17-c1df-4a22-9ec9-be6b77108c46",
   "metadata": {},
   "outputs": [
    {
     "data": {
      "text/html": [
       "<div>\n",
       "<style scoped>\n",
       "    .dataframe tbody tr th:only-of-type {\n",
       "        vertical-align: middle;\n",
       "    }\n",
       "\n",
       "    .dataframe tbody tr th {\n",
       "        vertical-align: top;\n",
       "    }\n",
       "\n",
       "    .dataframe thead th {\n",
       "        text-align: right;\n",
       "    }\n",
       "</style>\n",
       "<table border=\"1\" class=\"dataframe\">\n",
       "  <thead>\n",
       "    <tr style=\"text-align: right;\">\n",
       "      <th></th>\n",
       "      <th>Europe</th>\n",
       "      <th>Africa</th>\n",
       "      <th>Asia</th>\n",
       "      <th>NorthAmerica</th>\n",
       "      <th>Oceania</th>\n",
       "      <th>SouthAmerica</th>\n",
       "    </tr>\n",
       "    <tr>\n",
       "      <th>per_25</th>\n",
       "      <th></th>\n",
       "      <th></th>\n",
       "      <th></th>\n",
       "      <th></th>\n",
       "      <th></th>\n",
       "      <th></th>\n",
       "    </tr>\n",
       "  </thead>\n",
       "  <tbody>\n",
       "    <tr>\n",
       "      <th>1801-1825</th>\n",
       "      <td>1</td>\n",
       "      <td>0</td>\n",
       "      <td>0</td>\n",
       "      <td>0</td>\n",
       "      <td>0</td>\n",
       "      <td>0</td>\n",
       "    </tr>\n",
       "    <tr>\n",
       "      <th>1826-1850</th>\n",
       "      <td>23</td>\n",
       "      <td>0</td>\n",
       "      <td>1</td>\n",
       "      <td>0</td>\n",
       "      <td>0</td>\n",
       "      <td>0</td>\n",
       "    </tr>\n",
       "    <tr>\n",
       "      <th>1851-1875</th>\n",
       "      <td>77</td>\n",
       "      <td>0</td>\n",
       "      <td>1</td>\n",
       "      <td>9</td>\n",
       "      <td>1</td>\n",
       "      <td>0</td>\n",
       "    </tr>\n",
       "    <tr>\n",
       "      <th>1876-1900</th>\n",
       "      <td>77</td>\n",
       "      <td>1</td>\n",
       "      <td>4</td>\n",
       "      <td>43</td>\n",
       "      <td>2</td>\n",
       "      <td>2</td>\n",
       "    </tr>\n",
       "    <tr>\n",
       "      <th>1901-1925</th>\n",
       "      <td>86</td>\n",
       "      <td>2</td>\n",
       "      <td>8</td>\n",
       "      <td>115</td>\n",
       "      <td>3</td>\n",
       "      <td>1</td>\n",
       "    </tr>\n",
       "    <tr>\n",
       "      <th>1926-1950</th>\n",
       "      <td>85</td>\n",
       "      <td>3</td>\n",
       "      <td>23</td>\n",
       "      <td>130</td>\n",
       "      <td>3</td>\n",
       "      <td>1</td>\n",
       "    </tr>\n",
       "    <tr>\n",
       "      <th>1951-1975</th>\n",
       "      <td>21</td>\n",
       "      <td>0</td>\n",
       "      <td>9</td>\n",
       "      <td>35</td>\n",
       "      <td>1</td>\n",
       "      <td>0</td>\n",
       "    </tr>\n",
       "    <tr>\n",
       "      <th>1976-2000</th>\n",
       "      <td>1</td>\n",
       "      <td>0</td>\n",
       "      <td>0</td>\n",
       "      <td>1</td>\n",
       "      <td>0</td>\n",
       "      <td>0</td>\n",
       "    </tr>\n",
       "  </tbody>\n",
       "</table>\n",
       "</div>"
      ],
      "text/plain": [
       "           Europe  Africa  Asia  NorthAmerica  Oceania  SouthAmerica\n",
       "per_25                                                              \n",
       "1801-1825       1       0     0             0        0             0\n",
       "1826-1850      23       0     1             0        0             0\n",
       "1851-1875      77       0     1             9        1             0\n",
       "1876-1900      77       1     4            43        2             2\n",
       "1901-1925      86       2     8           115        3             1\n",
       "1926-1950      85       3    23           130        3             1\n",
       "1951-1975      21       0     9            35        1             0\n",
       "1976-2000       1       0     0             1        0             0"
      ]
     },
     "execution_count": 79,
     "metadata": {},
     "output_type": "execute_result"
    }
   ],
   "source": [
    "### Transformer l'index en chaîne de caractères\n",
    "# ce qui est indispensable pour l'affichage dans un graphique\n",
    "merged.index = merged.index.map(str)\n",
    "merged"
   ]
  },
  {
   "cell_type": "code",
   "execution_count": 80,
   "id": "9d8aeeb8",
   "metadata": {},
   "outputs": [],
   "source": [
    "### Adapter à l'ordre des colonnes\n",
    "col_palette_1 = [\n",
    "    \"#DCDCDC\",  # Gainsboro : Europe\n",
    "    \"#A3C1DA\",  # Light Blue : Africa\n",
    "    \"#F4A261\",  # Light Coral : Asia\n",
    "    \"#cd5c5c\",  # Indian Red : NorthAmerica\n",
    "    \"#B2E0B2\",  # Light Green : Oceania\n",
    "    \"#F6E58D\",  # Light Yellow : SouthAmerica\n",
    "    \n",
    "]\n"
   ]
  },
  {
   "cell_type": "code",
   "execution_count": 81,
   "id": "d188f96f-feca-464b-b338-f87e3c9cb23b",
   "metadata": {},
   "outputs": [
    {
     "data": {
      "image/png": "[encoded data removed]",
      "text/plain": [
       "<Figure size 1000x800 with 1 Axes>"
      ]
     },
     "metadata": {},
     "output_type": "display_data"
    }
   ],
   "source": [
    "### Représenter l'évolution de la distribution dans le temps par continent\n",
    "#  Documentation\n",
    "# https://pandas.pydata.org/pandas-docs/stable/reference/api/pandas.DataFrame.plot.bar.html\n",
    "\n",
    "data = merged\n",
    "\n",
    "ax = data.plot.bar(stacked=True, rot=70, fontsize=9, figsize=(10,8), \n",
    "                     color=col_palette_1)\n",
    "plt.title('Distribution des naissances par génération et continent')\n",
    "\n",
    "## https://stackoverflow.com/questions/71320380/add-only-the-total-values-on-top-of-stacked-bars\n",
    "ax.bar_label(ax.containers[-1])\n",
    "\n",
    "plt.show()"
   ]
  },
  {
   "cell_type": "markdown",
   "id": "1ea74235",
   "metadata": {},
   "source": [
    "## Représentation des mêmes informations avec une graphique décomposé\n",
    "\n",
    "\n"
   ]
  },
  {
   "cell_type": "code",
   "execution_count": 82,
   "id": "bb96fbac",
   "metadata": {},
   "outputs": [
    {
     "data": {
      "text/html": [
       "<div>\n",
       "<style scoped>\n",
       "    .dataframe tbody tr th:only-of-type {\n",
       "        vertical-align: middle;\n",
       "    }\n",
       "\n",
       "    .dataframe tbody tr th {\n",
       "        vertical-align: top;\n",
       "    }\n",
       "\n",
       "    .dataframe thead th {\n",
       "        text-align: right;\n",
       "    }\n",
       "</style>\n",
       "<table border=\"1\" class=\"dataframe\">\n",
       "  <thead>\n",
       "    <tr style=\"text-align: right;\">\n",
       "      <th></th>\n",
       "      <th>Europe</th>\n",
       "      <th>Africa</th>\n",
       "      <th>Asia</th>\n",
       "      <th>NorthAmerica</th>\n",
       "      <th>Oceania</th>\n",
       "      <th>SouthAmerica</th>\n",
       "    </tr>\n",
       "    <tr>\n",
       "      <th>per_25</th>\n",
       "      <th></th>\n",
       "      <th></th>\n",
       "      <th></th>\n",
       "      <th></th>\n",
       "      <th></th>\n",
       "      <th></th>\n",
       "    </tr>\n",
       "  </thead>\n",
       "  <tbody>\n",
       "    <tr>\n",
       "      <th>1801-1825</th>\n",
       "      <td>1</td>\n",
       "      <td>0</td>\n",
       "      <td>0</td>\n",
       "      <td>0</td>\n",
       "      <td>0</td>\n",
       "      <td>0</td>\n",
       "    </tr>\n",
       "    <tr>\n",
       "      <th>1826-1850</th>\n",
       "      <td>23</td>\n",
       "      <td>0</td>\n",
       "      <td>1</td>\n",
       "      <td>0</td>\n",
       "      <td>0</td>\n",
       "      <td>0</td>\n",
       "    </tr>\n",
       "    <tr>\n",
       "      <th>1851-1875</th>\n",
       "      <td>77</td>\n",
       "      <td>0</td>\n",
       "      <td>1</td>\n",
       "      <td>9</td>\n",
       "      <td>1</td>\n",
       "      <td>0</td>\n",
       "    </tr>\n",
       "    <tr>\n",
       "      <th>1876-1900</th>\n",
       "      <td>77</td>\n",
       "      <td>1</td>\n",
       "      <td>4</td>\n",
       "      <td>43</td>\n",
       "      <td>2</td>\n",
       "      <td>2</td>\n",
       "    </tr>\n",
       "    <tr>\n",
       "      <th>1901-1925</th>\n",
       "      <td>86</td>\n",
       "      <td>2</td>\n",
       "      <td>8</td>\n",
       "      <td>115</td>\n",
       "      <td>3</td>\n",
       "      <td>1</td>\n",
       "    </tr>\n",
       "    <tr>\n",
       "      <th>1926-1950</th>\n",
       "      <td>85</td>\n",
       "      <td>3</td>\n",
       "      <td>23</td>\n",
       "      <td>130</td>\n",
       "      <td>3</td>\n",
       "      <td>1</td>\n",
       "    </tr>\n",
       "    <tr>\n",
       "      <th>1951-1975</th>\n",
       "      <td>21</td>\n",
       "      <td>0</td>\n",
       "      <td>9</td>\n",
       "      <td>35</td>\n",
       "      <td>1</td>\n",
       "      <td>0</td>\n",
       "    </tr>\n",
       "    <tr>\n",
       "      <th>1976-2000</th>\n",
       "      <td>1</td>\n",
       "      <td>0</td>\n",
       "      <td>0</td>\n",
       "      <td>1</td>\n",
       "      <td>0</td>\n",
       "      <td>0</td>\n",
       "    </tr>\n",
       "  </tbody>\n",
       "</table>\n",
       "</div>"
      ],
      "text/plain": [
       "           Europe  Africa  Asia  NorthAmerica  Oceania  SouthAmerica\n",
       "per_25                                                              \n",
       "1801-1825       1       0     0             0        0             0\n",
       "1826-1850      23       0     1             0        0             0\n",
       "1851-1875      77       0     1             9        1             0\n",
       "1876-1900      77       1     4            43        2             2\n",
       "1901-1925      86       2     8           115        3             1\n",
       "1926-1950      85       3    23           130        3             1\n",
       "1951-1975      21       0     9            35        1             0\n",
       "1976-2000       1       0     0             1        0             0"
      ]
     },
     "execution_count": 82,
     "metadata": {},
     "output_type": "execute_result"
    }
   ],
   "source": [
    "## L'information à représenter (la distribution des effectifs)\n",
    "merged"
   ]
  },
  {
   "cell_type": "code",
   "execution_count": 83,
   "id": "d771329e",
   "metadata": {},
   "outputs": [
    {
     "data": {
      "text/html": [
       "<div>\n",
       "<style scoped>\n",
       "    .dataframe tbody tr th:only-of-type {\n",
       "        vertical-align: middle;\n",
       "    }\n",
       "\n",
       "    .dataframe tbody tr th {\n",
       "        vertical-align: top;\n",
       "    }\n",
       "\n",
       "    .dataframe thead th {\n",
       "        text-align: right;\n",
       "    }\n",
       "</style>\n",
       "<table border=\"1\" class=\"dataframe\">\n",
       "  <thead>\n",
       "    <tr style=\"text-align: right;\">\n",
       "      <th></th>\n",
       "      <th>Europe</th>\n",
       "      <th>Africa</th>\n",
       "      <th>Asia</th>\n",
       "      <th>NorthAmerica</th>\n",
       "      <th>Oceania</th>\n",
       "      <th>SouthAmerica</th>\n",
       "    </tr>\n",
       "    <tr>\n",
       "      <th>per_25</th>\n",
       "      <th></th>\n",
       "      <th></th>\n",
       "      <th></th>\n",
       "      <th></th>\n",
       "      <th></th>\n",
       "      <th></th>\n",
       "    </tr>\n",
       "  </thead>\n",
       "  <tbody>\n",
       "    <tr>\n",
       "      <th>1801-1825</th>\n",
       "      <td>100.0</td>\n",
       "      <td>0.0</td>\n",
       "      <td>0.0</td>\n",
       "      <td>0.0</td>\n",
       "      <td>0.0</td>\n",
       "      <td>0.0</td>\n",
       "    </tr>\n",
       "    <tr>\n",
       "      <th>1826-1850</th>\n",
       "      <td>95.8</td>\n",
       "      <td>0.0</td>\n",
       "      <td>4.2</td>\n",
       "      <td>0.0</td>\n",
       "      <td>0.0</td>\n",
       "      <td>0.0</td>\n",
       "    </tr>\n",
       "    <tr>\n",
       "      <th>1851-1875</th>\n",
       "      <td>87.5</td>\n",
       "      <td>0.0</td>\n",
       "      <td>1.1</td>\n",
       "      <td>10.2</td>\n",
       "      <td>1.1</td>\n",
       "      <td>0.0</td>\n",
       "    </tr>\n",
       "    <tr>\n",
       "      <th>1876-1900</th>\n",
       "      <td>59.7</td>\n",
       "      <td>0.8</td>\n",
       "      <td>3.1</td>\n",
       "      <td>33.3</td>\n",
       "      <td>1.6</td>\n",
       "      <td>1.6</td>\n",
       "    </tr>\n",
       "    <tr>\n",
       "      <th>1901-1925</th>\n",
       "      <td>40.0</td>\n",
       "      <td>0.9</td>\n",
       "      <td>3.7</td>\n",
       "      <td>53.5</td>\n",
       "      <td>1.4</td>\n",
       "      <td>0.5</td>\n",
       "    </tr>\n",
       "    <tr>\n",
       "      <th>1926-1950</th>\n",
       "      <td>34.7</td>\n",
       "      <td>1.2</td>\n",
       "      <td>9.4</td>\n",
       "      <td>53.1</td>\n",
       "      <td>1.2</td>\n",
       "      <td>0.4</td>\n",
       "    </tr>\n",
       "    <tr>\n",
       "      <th>1951-1975</th>\n",
       "      <td>31.8</td>\n",
       "      <td>0.0</td>\n",
       "      <td>13.6</td>\n",
       "      <td>53.0</td>\n",
       "      <td>1.5</td>\n",
       "      <td>0.0</td>\n",
       "    </tr>\n",
       "    <tr>\n",
       "      <th>1976-2000</th>\n",
       "      <td>50.0</td>\n",
       "      <td>0.0</td>\n",
       "      <td>0.0</td>\n",
       "      <td>50.0</td>\n",
       "      <td>0.0</td>\n",
       "      <td>0.0</td>\n",
       "    </tr>\n",
       "  </tbody>\n",
       "</table>\n",
       "</div>"
      ],
      "text/plain": [
       "           Europe  Africa  Asia  NorthAmerica  Oceania  SouthAmerica\n",
       "per_25                                                              \n",
       "1801-1825   100.0     0.0   0.0           0.0      0.0           0.0\n",
       "1826-1850    95.8     0.0   4.2           0.0      0.0           0.0\n",
       "1851-1875    87.5     0.0   1.1          10.2      1.1           0.0\n",
       "1876-1900    59.7     0.8   3.1          33.3      1.6           1.6\n",
       "1901-1925    40.0     0.9   3.7          53.5      1.4           0.5\n",
       "1926-1950    34.7     1.2   9.4          53.1      1.2           0.4\n",
       "1951-1975    31.8     0.0  13.6          53.0      1.5           0.0\n",
       "1976-2000    50.0     0.0   0.0          50.0      0.0           0.0"
      ]
     },
     "execution_count": 83,
     "metadata": {},
     "output_type": "execute_result"
    }
   ],
   "source": [
    "### Fréquences par période\n",
    "merged_prop = merged.apply(lambda x: (x / x.sum()) * 100, axis=1).round(1)\n",
    "merged_prop"
   ]
  },
  {
   "cell_type": "code",
   "execution_count": 84,
   "id": "cb4dc457",
   "metadata": {},
   "outputs": [
    {
     "data": {
      "image/png": "[encoded data removed]",
      "text/plain": [
       "<Figure size 1000x1600 with 8 Axes>"
      ]
     },
     "metadata": {},
     "output_type": "display_data"
    }
   ],
   "source": [
    "### Graphique multiple\n",
    "#  Pandas plot reference\n",
    "# https://pandas.pydata.org/pandas-docs/stable/reference/api/pandas.DataFrame.plot.html\n",
    "## Barplots\n",
    "# https://www.shanelynn.ie/bar-plots-in-python-using-pandas-dataframes/\n",
    "\n",
    "\n",
    "lm = len(merged)\n",
    "\n",
    "# Initialise the subplot function using number of rows and columns\n",
    "#figure, axis = plt.subplots(lm, 1)\n",
    "\n",
    "fig, axes = plt.subplots(lm, 1, figsize=(10,16))\n",
    "\n",
    "i = 0\n",
    "\n",
    "while i < lm:\n",
    "    df = pd.DataFrame(merged.iloc[i , ])\n",
    "    df['frequence'] = (100 * df / df.sum()).round(2)\n",
    "    ljt = pd.DataFrame(df['frequence']).T\n",
    "    # print(ljt)\n",
    "    fig = ljt.plot(kind='barh', stacked=True, ax=axes[i], label=None, xlabel=None, \n",
    "                   fontsize=10, color=col_palette_1, width=0.3, xlim=[0,100])\n",
    "    fig.set_title(df.columns[0])\n",
    "    if (i+2)%2 != 0:\n",
    "        fig.get_legend().remove()\n",
    "    i += 1\n",
    "    \n",
    "\n",
    "plt.suptitle('Fréquence des naissances par continent: évolution dans le temps',  fontsize=14)\n",
    "             \n",
    "plt.tight_layout()  # rect=[0, 0.03, 1, 0.90]\n",
    "plt.xlabel('')\n",
    "\n",
    "   \n",
    "plt.show()\n",
    "\n",
    "\n"
   ]
  },
  {
   "cell_type": "code",
   "execution_count": 85,
   "id": "ef3915a5",
   "metadata": {},
   "outputs": [
    {
     "data": {
      "image/png": "[encoded data removed]",
      "text/plain": [
       "<Figure size 1500x300 with 1 Axes>"
      ]
     },
     "metadata": {},
     "output_type": "display_data"
    }
   ],
   "source": [
    "\n",
    "### Comparer avec l'ensemble de la période !\n",
    "# Noter que la distribution  de la dernière tranche temporelle est quasiment la même pour l'ensemble de la période \n",
    "# du fait des effectifs très importants du 20e siècle, qui définissent la tendance générale\n",
    "\n",
    "fig = ljt.plot(kind='barh', stacked=True, figsize=(15,3), color=col_palette_1, width=0.2, xlim=[0,100])\n",
    "\n"
   ]
  }
 ],
 "metadata": {
  "kernelspec": {
   "display_name": "Python 3",
   "language": "python",
   "name": "python3"
  },
  "language_info": {
   "codemirror_mode": {
    "name": "ipython",
    "version": 3
   },
   "file_extension": ".py",
   "mimetype": "text/x-python",
   "name": "python",
   "nbconvert_exporter": "python",
   "pygments_lexer": "ipython3",
   "version": "3.10.7"
  }
 },
 "nbformat": 4,
 "nbformat_minor": 5
}
